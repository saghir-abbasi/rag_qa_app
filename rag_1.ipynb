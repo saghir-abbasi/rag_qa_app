{
  "cells": [
    {
      "cell_type": "code",
      "execution_count": 1,
      "metadata": {
        "id": "Hfc-a3XO0zsV"
      },
      "outputs": [],
      "source": [
        "import os\n",
        "from dotenv import load_dotenv\n",
        "# from google.colab import userdata\n",
        "# userdata.get('GOOGLE_API_KEY')\n",
        "# os.environ['GOOGLE_API_KEY'] = userdata.get('GOOGLE_API_KEY')\n",
        "# PINECONE_API_KEY = userdata.get('PINECONE_API_KEY')\n",
        "load_dotenv()\n",
        "GOOGLE_API_KEY = os.getenv(\"API_KEY\")\n",
        "PINECONE_API_KEY = os.getenv('PINECONE_API_KEY')\n"
      ]
    },
    {
      "cell_type": "code",
      "execution_count": 2,
      "metadata": {
        "id": "Ybuso03-1TKH"
      },
      "outputs": [
        {
          "name": "stderr",
          "output_type": "stream",
          "text": [
            "d:\\PIAIC Course\\Quarter 2\\assignments\\myenv\\Lib\\site-packages\\tqdm\\auto.py:21: TqdmWarning: IProgress not found. Please update jupyter and ipywidgets. See https://ipywidgets.readthedocs.io/en/stable/user_install.html\n",
            "  from .autonotebook import tqdm as notebook_tqdm\n"
          ]
        }
      ],
      "source": [
        "from langchain_google_genai import ChatGoogleGenerativeAI\n",
        "llm = ChatGoogleGenerativeAI(model='gemini-1.5-flash')"
      ]
    },
    {
      "cell_type": "code",
      "execution_count": null,
      "metadata": {
        "id": "A77aOaMw5_Yw"
      },
      "outputs": [],
      "source": [
        "from langchain_google_genai import GoogleGenerativeAIEmbeddings\n",
        "\n",
        "embeddings = GoogleGenerativeAIEmbeddings(model=\"models/embedding-001\")\n",
        "embeddings.embed_query(\"What's our Q1 revenue?\")"
      ]
    },
    {
      "cell_type": "code",
      "execution_count": 4,
      "metadata": {
        "id": "hLGYTJbUCaOX"
      },
      "outputs": [],
      "source": [
        "from langchain_community.document_loaders import PyPDFLoader\n",
        "from langchain.text_splitter import RecursiveCharacterTextSplitter"
      ]
    },
    {
      "cell_type": "code",
      "execution_count": 5,
      "metadata": {
        "colab": {
          "base_uri": "https://localhost:8080/"
        },
        "id": "dsEl1pjv8UBM",
        "outputId": "eeb318d3-4171-43fe-b01e-cce3f82de7eb"
      },
      "outputs": [
        {
          "name": "stdout",
          "output_type": "stream",
          "text": [
            "[Document(metadata={'source': 'documents/MDF.pdf', 'page': 0}, page_content='Constitution of Murree Development Forum \\nTrial: \\nThe Islamic Republic of Pakistan is a manifestation of the aspirations and aspirations of the Muslims \\nof the Indian subcontinent, which came into existence as a result of millions of human sacrifices. Among the \\nobjectives of its establishment was the establishment of a fair society in the light of Islamic principles where \\npeople can live under values such as basic human rights, freedom and equality and reach the highest level of'), Document(metadata={'source': 'documents/MDF.pdf', 'page': 0}, page_content='construction and development. \\nThe objectives of Murree Development Forum are to provide opportunities based on freedom, equality and \\njustice to benefit the construction and development of our region. \\n \\nVision of Murree Development Forum: \\nTo make Murree a developed city of international standards. \\nMission of Murree Development Forum: \\nTo improve the standard of living of the people through educational, social, economic and political \\ndevelopment. \\n \\nObjectives of Murree Development Forum:'), Document(metadata={'source': 'documents/MDF.pdf', 'page': 0}, page_content='Objectives of Murree Development Forum: \\n1. Education \\n• Making education and training the first priority through awareness in the minds of the people so that \\nMurree becomes a 100% literate tehsil. \\n• Bringing out-of-school students to school to achieve 100% education rate. Making education of students in \\nschool compulsory up to matriculation. \\n• Striving for quality education in public and private schools and upgrading substandard schools with the'), Document(metadata={'source': 'documents/MDF.pdf', 'page': 0}, page_content='support of government, NGOs, and the community. \\n• Building schools in areas where there are no schools and making efforts to establish campuses of quality \\ncolleges and universities in Murree. \\n• Setting up career counseling department for children to guide them according to their inclinations. \\n• Preparation of Parenting Counselors for parents for better education of children. \\n• Management of scholarships for higher education so that intelligent but less resourceful students can get'), Document(metadata={'source': 'documents/MDF.pdf', 'page': 0}, page_content='higher education.'), Document(metadata={'source': 'documents/MDF.pdf', 'page': 1}, page_content='2. Economy \\n• To generalize hard work, skills and professionalism to change the quality of life of people. \\n• Managing the development of technical and soft skills to prepare a trained and skilled workforce. \\n• Establishment of I.T infrastructure to introduce the new generation of Murree to Digitalization and expose \\nthem to modern skills and markets. \\n• Attracting investors to Murree for employment opportunities, promotion of cottage industry and local \\nindustry.'), Document(metadata={'source': 'documents/MDF.pdf', 'page': 1}, page_content='industry. \\n• To make Murree the number 1 tourism hub of Pakistan by bringing the hotel industry transport and guides \\ntowards professionalism for the development of the tourism sector. \\n• To move towards self-sufficiency by promoting agriculture and livestock. \\n3. Social sector \\n• To strive for improvement in social attitudes and development of better moral values. \\n• To increase the political consciousness and awareness of the people, to be the voice of the oppressed \\nagainst oppression.'), Document(metadata={'source': 'documents/MDF.pdf', 'page': 1}, page_content='against oppression. \\n• Taking measures to preserve the beauty of Murree, natural beauty and strategizing for conservation of \\nforests. \\n• Taking practical measures for sanitation and waste management to conform to modern standards of \\nsanitation and hygiene. \\n• Extensive organization of curricular, co-curricular and sports activities for the youth so that the youth can \\nhave opportunities for positive entertainment.'), Document(metadata={'source': 'documents/MDF.pdf', 'page': 1}, page_content=\"have opportunities for positive entertainment. \\n• To improve primary health centers for better health facilities and invite private sector to build specialist \\nhospitals, laboratories for all diseases. \\n• To ensure the safe transmission of Murree's history, traditions, values, language and culture to the next \\ngeneration. \\n \\nName \\nThe name of the forum will be Murree Development Forum. \\nMurree Development Forum Logo\"), Document(metadata={'source': 'documents/MDF.pdf', 'page': 2}, page_content='membership \\nMembership Terms \\nAny person over the age of 18 who agrees with the aims and objectives of the forum can become a forum \\nmember. Provided that such person \\n1. Not to be a member of any secret, outlaw or revolutionary party. \\n2. Do not associate with any organization or forum whose views, ideas, policies and practices differ from the \\nobjectives of the forum. \\nStudents below 18 years of age can become volunteers. \\nMembership Procedures'), Document(metadata={'source': 'documents/MDF.pdf', 'page': 2}, page_content='Membership Procedures \\nAny person can become a member of the forum by filling the membership form and paying the prescribed \\nmembership fee while agreeing to the aims and objectives of the forum. \\nTERM OF MEMBERSHIP \\n The term of membership will be two years. A member must renew his membership every two years. \\nTermination of Membership \\n The forum membership will be terminated in the following cases.'), Document(metadata={'source': 'documents/MDF.pdf', 'page': 2}, page_content='I .Resignation ii. Emissions iii. Non-renewal of membership iv. Engaging in any illegal, unethical activity v. On \\nconviction by a court of law for a morally culpable offence.vi Suspension from membership vii. The Core \\nCommittee may suspend a member from membership of the Forum under disciplinary action. \\n \\nGeneral Council \\n A person who has been a continuous member for three months can become a member of the General \\nCouncil who'), Document(metadata={'source': 'documents/MDF.pdf', 'page': 2}, page_content=\"Council who \\n1. Agree with the forum's constitution, vision, mission, and narrative \\n2. Attends scheduled program meetings, trainings. \\n3. Deposit the prescribed forum fund regularly. \\n4. Be opinionated\"), Document(metadata={'source': 'documents/MDF.pdf', 'page': 3}, page_content='5. After becoming a member of the General Council shall take formal oath. \\nExecutive Council \\n1. The Executive Council shall be the representative forum of the General Council. \\n2. The members of the Executive Council shall be elected by the Core Committee. \\n3. The number of elected members of the Executive Council shall be 15. \\n4. The Executive Council member shall take formal oath after being elected. \\nCore Committee \\nTo become a core committee member, a person who'), Document(metadata={'source': 'documents/MDF.pdf', 'page': 3}, page_content=\"To become a core committee member, a person who \\n1. Do not belong to any other party. \\n2. Fully agree with MDF's Vision, Mission, Objectives, Statement and Constitution. \\n3. Come forward through all the prescribed stages of becoming a Core Committee member, regularly attend \\nmeetings, training programs, demonstrate physical and financial commitment to the organization. \\n4. Be educated, thoughtful, understanding, and opinionated. \\nProcedure to become a Core Committee Member\"), Document(metadata={'source': 'documents/MDF.pdf', 'page': 3}, page_content='Procedure to become a Core Committee Member \\n1. Any member of the Core Committee can also recommend about the new person that he is eligible for the \\nCore Committee. \\n2. The decision will be taken by a two-thirds majority in the Core Committee meeting. \\n3. In case of positive opinion of more members, the said person will become associate member for three \\nmonths. \\n4. After three months the Core Committee will be authorized to decide the permanent membership of this \\nindividual.'), Document(metadata={'source': 'documents/MDF.pdf', 'page': 3}, page_content=\"individual. \\n5. In case of non-qualification, this person will be given another two months' time. \\n6. On becoming a permanent member he will have to take oath in the Core Committee meeting. \\n7. In case of open violation of organizational discipline, the constitution, the core committee will decide to \\nexpel the desired person. \\n8. In case of disagreement, the desired person shall submit his/her resignation to the Core Committee\"), Document(metadata={'source': 'documents/MDF.pdf', 'page': 4}, page_content='9. In case of non-participation in the meeting for three months without notice, a show-cause notice will be \\nissued and in case of non-response within one month, the Core Committee will be authorized to terminate \\nthe membership of the said member. \\n \\nScope of the Core Committee \\n1. Election of President \\n2. Planning, setting priorities \\n3. Consultation for determining department heads \\n4. The power of inclusion and exclusion of new members (Executive Council, General Council, Core'), Document(metadata={'source': 'documents/MDF.pdf', 'page': 4}, page_content='Committee) by majority vote. \\n5. Review and comment on the audit report \\n6. Power to amend the Constitution \\n7. Budget, financial matters \\n8. The Core Committee shall have the status of central decision making body. \\n9. The President of the Murree Development Forum shall be elected from among the Core Committee \\nmembers. \\n \\nProcedure for Election of Murree Development Forum President \\n1- All members of the Core Committee shall vote in favor of one candidate by secret ballot.'), Document(metadata={'source': 'documents/MDF.pdf', 'page': 4}, page_content='2- There will be an election between the first and second ranked candidates. \\n3- Before the election, both the candidates will address the core committee and after formulating future \\ngoals and strategies, they will convince the core committee to convince them of their competence. \\n4- Candidates who do not participate in the election of the President for any concrete reason will become \\npart of the Election Commission and will ensure a clean and transparent election process.'), Document(metadata={'source': 'documents/MDF.pdf', 'page': 4}, page_content='5- With a secret ballot, Zahid Etimad who gets 50% vote of confidence will be elected as the President of \\nMDF. \\n6- The term of the president will be one year. \\n7- If 60% members of the Core Committee express no confidence against the President, the President will \\nresign.'), Document(metadata={'source': 'documents/MDF.pdf', 'page': 5}, page_content='8- The second ranked candidate will be elected as the Vice President. \\n9- In the absence of the president (death, transfer abroad, resignation), the vice president will be the acting \\npresident and within two months, the new president will be elected according to the election process. \\n10- The Cabinet will be selected by the Corey Committee after consultation with the President. \\n \\nResponsibilities of the Head (President) of the Organization:'), Document(metadata={'source': 'documents/MDF.pdf', 'page': 5}, page_content='1. Implementation of the plan agreed upon in the Core Committee, and determination of priorities \\n2. Running the day-to-day affairs of the organization \\n3. Organizational Priorities and Planning \\n4. Review performance of members \\n5. Signing notification of appointment, suspension, etc. of officials. \\n6. Scrutiny and signing of final monthly expense reports \\n7. If the opinion of the members in the core committee is equal in opposition and agreement on any matter,'), Document(metadata={'source': 'documents/MDF.pdf', 'page': 5}, page_content='then the decision of the president will get priority. \\n8. Financial planning and validation \\n9. Responsible for conducting negotiations, agreements, correspondence, negotiations with other institutions \\nand organizations. \\n10. Convening the meeting of the Core Committee \\n11. The President will hear the grievances and redress them. \\n12. The President shall protect the rights of the members. \\n13. In case of emergency the President shall take a decision after consultation with the Cabinet and'), Document(metadata={'source': 'documents/MDF.pdf', 'page': 5}, page_content='subsequently the emergency decision shall be ratified in the next meeting. \\nResponsibilities of the Vice President \\n1. Shall assist the President in his presence and act as President in his absence. \\n• Assisting the President or CEO in managing the organization. \\n• Acting as a key advisor to the President or CEO and providing strategic guidance. \\no Serving as a representative of the organization at events, meetings, and in the community.'), Document(metadata={'source': 'documents/MDF.pdf', 'page': 6}, page_content='• Assisting in fundraising efforts, including donor relations, grant writing, and events. \\n• Building and maintaining relationships with donors, sponsors, and partners \\n \\nGeneral Secretary \\n1. Recording of proceedings of meetings, record keeping \\n2. Creating and sending messages, notifications \\n3. Monitoring of departments \\n4. Preparation of agenda \\n5. And such duties as may be assigned by the President \\n \\nSecretary Finance'), Document(metadata={'source': 'documents/MDF.pdf', 'page': 6}, page_content=\"Secretary Finance \\n1. The Central Secretary Finance shall be a member of the Core Committee \\n2. The Finance Secretary shall be responsible for fund collection, record keeping, reporting and auditing. \\n Information Secretary \\n1. The Secretary of Information shall supervise all matters related to social media, print media and electronic \\nmedia. \\n2. The Secretary shall be considered the Spokesperson of the Information Forum. \\nWomen's Wing:\"), Document(metadata={'source': 'documents/MDF.pdf', 'page': 6}, page_content=\"Women's Wing: \\nThe Head of the Women Wing will be the Vice President of the Murree Development Forum who will be in \\ncharge of all matters related to the Women Wing. The Vice President Women Wing will be accountable to \\nthe President of the Murree Development Forum and will be responsible for the full implementation of the \\ndecisions of the Core Committee. \\nElection Commission \\n1. Members who withdraw from the election of the President shall be part of the Election Commission\"), Document(metadata={'source': 'documents/MDF.pdf', 'page': 6}, page_content='2. Otherwise, the Core Committee will form the Election Commission. \\n3. The Election Commission will ensure fair and transparent elections.'), Document(metadata={'source': 'documents/MDF.pdf', 'page': 7}, page_content='Kohsar Community Development Foundation \\n \\nKCDF will be registered under section 42 as NPO. \\nBoD will be appointed from core committee of MDF. \\nCEO will also be appointed from core committee of MDF. \\n \\n \\nNote: The affidavits of all the officials and officials have been attached in the appendices. In the light of \\nwhich, it is necessary to take the oath of the officials and officials. \\n \\n \\nAnnexure I: Affidavit of Core Committee Members \\nI swear to God Almighty that;'), Document(metadata={'source': 'documents/MDF.pdf', 'page': 7}, page_content=\"I swear to God Almighty that; \\n1- 1. I fully agree with the vision, mission and program of MDF and will try to use my best abilities for it. \\n2- 2. I will remain loyal to the organization of MDF. \\n3- 3. I will protect all secrets. \\n4-4 I will not become a tool of any other political party. \\n5-5 I will fight hard to achieve the objectives, program and manifesto of MDF and I will strive for the \\nsupremacy of the common man. \\n6- 6. I will not use MDFCo's platform for personal promotion.\"), Document(metadata={'source': 'documents/MDF.pdf', 'page': 7}, page_content='7- 7 I will avoid lobbying and I will not backbite and negative and destructive criticism. \\n8- I will remain loyal to the state of Pakistan and Islam. \\n \\nMay Allah grant us the ability to fulfill this promise (Amen). \\n \\nAppendix II: Affidavit of General and Executive Council members'), Document(metadata={'source': 'documents/MDF.pdf', 'page': 8}, page_content='I _____________son___________ \\nI swear that \\nI agree with the vision, mission and objectives of Murree Development Forum. And will devote my best \\nabilities to fulfill them. I will raise my voice to represent the common man. I will be the partner of the \\noppressed against the oppressor. I will try to strengthen democratic traditions and values. I will try to fulfill \\nthe responsibility given by Murree Development Forum. I will remain loyal to Islam and the state of Pakistan.'), Document(metadata={'source': 'documents/MDF.pdf', 'page': 8}, page_content='May Allah grant me the ability to fulfill this promise. Amen \\n \\nVillage Union Council Education Phone Number with Whatsapp Signature \\n \\nContents \\nNo table of contents entries found. \\nAppendix III: Affidavit of Murree Development Forum Officials: \\n \\nI ... son That of MDF. has been selected \\nI testify to Allah that \\nI will stay loyal to MDF. I will make full use of my abilities. I will use the responsibilities and trusts entrusted to \\nme for the strength of MDF.'), Document(metadata={'source': 'documents/MDF.pdf', 'page': 8}, page_content='me for the strength of MDF. \\nMay Allah grant me the ability to fulfill this promise'), Document(metadata={'source': 'documents/MDF.pdf', 'page': 9}, page_content='Annexure IV: Affidavit of President of Murree Development Forum \\n \\nI .... son Who has been elected as the president of MDF, I declare to God as witness that I will abide by the \\nconstitution of MDF and try to run the forum accordingly. \\nI will make this forum a means of achieving collective goals and will strive for the supremacy of the common \\nman. \\nI will faithfully use the trusts entrusted to me to achieve the objectives of MDF.'), Document(metadata={'source': 'documents/MDF.pdf', 'page': 9}, page_content='May Allah grant me the ability to fulfill this promise. Amen')]\n",
            "37\n"
          ]
        }
      ],
      "source": [
        "# Load documents\n",
        "loader = PyPDFLoader('documents/MDF.pdf')\n",
        "documents = loader.load()\n",
        "\n",
        "# Split documents into chunks\n",
        "text_splitter = RecursiveCharacterTextSplitter(chunk_size=500, chunk_overlap=50)\n",
        "docs = text_splitter.split_documents(documents)\n",
        "print(docs)\n",
        "print(len(docs))"
      ]
    },
    {
      "cell_type": "code",
      "execution_count": 6,
      "metadata": {
        "colab": {
          "base_uri": "https://localhost:8080/"
        },
        "id": "3GVz9NL9OzTA",
        "outputId": "e4c449ab-fd8f-42b9-ca72-2ce944815c9c"
      },
      "outputs": [
        {
          "name": "stdout",
          "output_type": "stream",
          "text": [
            "Index 'quickstart4' created successfully.\n"
          ]
        }
      ],
      "source": [
        "from langchain_pinecone import PineconeVectorStore\n",
        "from pinecone import Pinecone, ServerlessSpec\n",
        "\n",
        "index_name = \"quickstart4\"\n",
        "pc = Pinecone(api_key=PINECONE_API_KEY)\n",
        "# Check if index already exists before attempting to create it\n",
        "if index_name not in pc.list_indexes().names():\n",
        "    pc.create_index(\n",
        "        name=index_name,\n",
        "        dimension=768,  # Replace with your model dimensions\n",
        "        metric=\"cosine\",  # Replace with your model metric\n",
        "        spec=ServerlessSpec(\n",
        "            cloud=\"aws\",\n",
        "            region=\"us-east-1\"\n",
        "        )\n",
        "    )\n",
        "    print(f\"Index '{index_name}' created successfully.\")\n",
        "else:\n",
        "    print(f\"Index '{index_name}' already exists.\")\n",
        "\n",
        "index = pc.Index(index_name)\n",
        "\n",
        "vector_store = PineconeVectorStore(embedding=embeddings, index=index)"
      ]
    },
    {
      "cell_type": "code",
      "execution_count": 7,
      "metadata": {
        "colab": {
          "base_uri": "https://localhost:8080/"
        },
        "id": "Hnp0XuonOoR8",
        "outputId": "0648980c-abc6-4b24-f3a5-9b0add98d3a1"
      },
      "outputs": [
        {
          "name": "stderr",
          "output_type": "stream",
          "text": [
            "  0%|          | 0/37 [00:00<?, ?it/s]"
          ]
        },
        {
          "name": "stderr",
          "output_type": "stream",
          "text": [
            "100%|██████████| 37/37 [01:11<00:00,  1.93s/it]\n"
          ]
        }
      ],
      "source": [
        "from tqdm import tqdm\n",
        "\n",
        "# Create embeddings and upload to Pinecone\n",
        "vectors=[]\n",
        "for doc in tqdm(docs):\n",
        "    vector = embeddings.embed_query(doc.page_content)\n",
        "    # Generate a unique ID for each document (e.g., UUID or hash)\n",
        "    doc_id = str(hash(doc.page_content))\n",
        "\n",
        "    metadata = {'text': doc.page_content}\n",
        "    # Upsert the vector with a unique ID\n",
        "    index.upsert(vectors=[(doc_id, vector, metadata)])"
      ]
    },
    {
      "cell_type": "code",
      "execution_count": 8,
      "metadata": {
        "id": "zLd_Cns1Ytev"
      },
      "outputs": [
        {
          "name": "stderr",
          "output_type": "stream",
          "text": [
            "C:\\Users\\dell\\AppData\\Local\\Temp\\ipykernel_8352\\1396437022.py:2: LangChainDeprecationWarning: The class `Pinecone` was deprecated in LangChain 0.0.18 and will be removed in 1.0. An updated version of the class exists in the :class:`~langchain-pinecone package and should be used instead. To use it run `pip install -U :class:`~langchain-pinecone` and import as `from :class:`~langchain_pinecone import Pinecone``.\n",
            "  retriever=  Pinecone(index=index, embedding=embeddings, text_key=\"text\")\n"
          ]
        }
      ],
      "source": [
        "from langchain.vectorstores import Pinecone\n",
        "retriever=  Pinecone(index=index, embedding=embeddings, text_key=\"text\")\n",
        "# Convert it into a retriever compatible with RetrievalQA\n",
        "retriever = vector_store.as_retriever()"
      ]
    },
    {
      "cell_type": "code",
      "execution_count": 9,
      "metadata": {
        "id": "2brg0HtGPNcA"
      },
      "outputs": [],
      "source": [
        "from langchain.chains import RetrievalQA\n",
        "\n",
        "qa_chain = RetrievalQA.from_chain_type(\n",
        "    llm=llm,\n",
        "    chain_type=\"refine\",  # Other options: \"map_reduce\", \"refine\"\n",
        "    retriever=retriever\n",
        ")"
      ]
    },
    {
      "cell_type": "code",
      "execution_count": 10,
      "metadata": {
        "id": "mNp9KKOZPTuS"
      },
      "outputs": [
        {
          "name": "stdout",
          "output_type": "stream",
          "text": [
            "The Murree Development Forum is an organization dedicated to the multifaceted development of Murree.  Their efforts encompass improving the quality of life for residents through initiatives in healthcare (upgrading primary health centers and attracting private investment),  positive entertainment, and cultural preservation.  A strong emphasis is placed on education, aiming for 100% literacy by reintegrating out-of-school children, mandating matriculation, and enhancing educational quality across public and private institutions.  Critically, the Forum also focuses on economic development, aiming to cultivate a skilled workforce through technical and soft skills training, establish IT infrastructure to promote digital literacy and access to modern markets, and attract investors to create employment opportunities and boost cottage and local industries.  Their ultimate goal is to elevate Murree to the status of an internationally recognized, developed city.\n",
            "\n"
          ]
        }
      ],
      "source": [
        "query = \"what is murree developemnt forum?\"\n",
        "# query = \"what is python?\"\n",
        "response = qa_chain.invoke(query)\n",
        "print(response['result'])"
      ]
    }
  ],
  "metadata": {
    "colab": {
      "provenance": []
    },
    "kernelspec": {
      "display_name": "myenv",
      "language": "python",
      "name": "python3"
    },
    "language_info": {
      "codemirror_mode": {
        "name": "ipython",
        "version": 3
      },
      "file_extension": ".py",
      "mimetype": "text/x-python",
      "name": "python",
      "nbconvert_exporter": "python",
      "pygments_lexer": "ipython3",
      "version": "3.12.1"
    }
  },
  "nbformat": 4,
  "nbformat_minor": 0
}
